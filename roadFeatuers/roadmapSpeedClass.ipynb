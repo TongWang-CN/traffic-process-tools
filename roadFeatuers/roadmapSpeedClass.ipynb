{
 "cells": [
  {
   "cell_type": "code",
   "execution_count": 90,
   "metadata": {},
   "outputs": [
    {
     "name": "stdout",
     "output_type": "stream",
     "text": [
      "未处理缺速度路段数量1:5340\n",
      "填充同名同等级，未处理缺速度路段数量2:5044\n",
      "填充highway，未处理缺速度路段数量3:4880\n"
     ]
    }
   ],
   "source": [
    "import pandas as pd\n",
    "import numpy as np\n",
    "import os\n",
    "\n",
    "\n",
    "#read file\n",
    "\n",
    "infordf=pd.read_csv('D:/Amap/processdata/路网与边界/wuhan/dissovle_osm_gcj_5659_new_nospeed.csv',header=0,index_col=None)\n",
    "print(\"未处理缺速度路段数量1:%d\"%(infordf['maxspeed'].isna().sum()))\n",
    "\n",
    "\n",
    "\n",
    "#同名同等级\n",
    "unique_name_maxspeed = infordf[['name', 'maxspeed','highway']].drop_duplicates()\n",
    "unique_name_maxspeed.dropna(inplace=True)\n",
    "unique_name_maxspeed.sort_values(by='name',inplace=True)\n",
    "infordf = infordf.merge(unique_name_maxspeed, on=['name','highway'], how='left')\n",
    "    # 填充缺失的 maxspeed 值\n",
    "infordf['maxspeed_x'].fillna(infordf['maxspeed_y'], inplace=True)\n",
    "infordf.drop(['maxspeed_y'], axis=1, inplace=True)\n",
    "infordf.rename(columns={'maxspeed_x': 'maxspeed'}, inplace=True)\n",
    "print(\"填充同名同等级，未处理缺速度路段数量2:%d\"%(infordf['maxspeed'].isna().sum()))\n",
    "\n",
    "\n",
    "#不同highway\n",
    "highway_maxspeed=infordf[['highway', 'maxspeed']].drop_duplicates()\n",
    "highway_maxspeed.dropna(inplace=True)\n",
    "highway_maxspeed.sort_values(by='maxspeed')\n",
    "highway_maxspeed=highway_maxspeed.groupby(by='highway')['maxspeed'].unique().reset_index()\n",
    "highway_maxspeed\n",
    "        #只有secondary_link有唯一值30km，用30填充所有secondary_link\n",
    "infordf.loc[infordf['highway'] == 'secondary_link', 'maxspeed'] = 30\n",
    "print(\"填充highway，未处理缺速度路段数量3:%d\"%(infordf['maxspeed'].isna().sum()))\n",
    "\n",
    "\n",
    "roadname=infordf[infordf['maxspeed'].isna()]['name'].unique()\n",
    "roadname=pd.DataFrame(roadname)\n",
    "roadname.dropna(inplace=True)\n",
    "len(roadname)\n",
    "roadname.to_excel('D:/Amap/processdata/路网与边界/wuhan/osm_gcj_5659_xy12/roadname1002.xlsx')"
   ]
  },
  {
   "cell_type": "code",
   "execution_count": 8,
   "metadata": {},
   "outputs": [
    {
     "name": "stderr",
     "output_type": "stream",
     "text": [
      "<ipython-input-8-ab19747c02cd>:9: UserWarning: Column names longer than 10 characters will be truncated when saved to ESRI Shapefile.\n",
      "  merge_df.to_file('D:/Amap/processdata/路网与边界/wuhan/osm_gcj_5659_xy12/dissovle_osm_gcj_5659_limitspeed.shp', driver='ESRI Shapefile',layer='layer1',encoding='utf-8')\n"
     ]
    }
   ],
   "source": [
    "import geopandas as gpd\n",
    "import numpy as np\n",
    "import pandas as pd\n",
    "\n",
    "roaddf=gpd.read_file('D:/Amap/processdata/路网与边界/wuhan/osm_gcj_5659_xy12/dissovle_osm_gcj_5659_new.shp')\n",
    "speeddf=pd.read_csv('D:/Amap/processdata/路网与边界/wuhan/osm_gcj_5659_xy12/limitspeed.csv',header=0,index_col=None)\n",
    "merge_df=pd.merge(roaddf,speeddf,on='highway',how='left')\n",
    "merge_df.sort_values(by='limitspeed',inplace=True)\n",
    "merge_df.to_file('D:/Amap/processdata/路网与边界/wuhan/osm_gcj_5659_xy12/dissovle_osm_gcj_5659_limitspeed.shp', driver='ESRI Shapefile',layer='layer1',encoding='utf-8')\n"
   ]
  },
  {
   "cell_type": "code",
   "execution_count": 9,
   "metadata": {},
   "outputs": [
    {
     "name": "stderr",
     "output_type": "stream",
     "text": [
      "<ipython-input-9-7b31eaf2b0d5>:9: UserWarning: Column names longer than 10 characters will be truncated when saved to ESRI Shapefile.\n",
      "  merge_df.to_file('D:/Amap/processdata/路网与边界/wuhan/pyw/osm_gcj_14160_dropdup_limit.shp', driver='ESRI Shapefile',layer='layer1',encoding='utf-8')\n"
     ]
    }
   ],
   "source": [
    "import geopandas as gpd\n",
    "import numpy as np\n",
    "import pandas as pd\n",
    "\n",
    "roaddf=gpd.read_file('D:/Amap/processdata/路网与边界/wuhan/pyw/osm_gcj_14160_dropdup.shp')\n",
    "speeddf=pd.read_csv('D:/Amap/processdata/路网与边界/wuhan/osm_gcj_5659_xy12/limitspeed.csv',header=0,index_col=None)\n",
    "merge_df=pd.merge(roaddf,speeddf,on='highway',how='left')\n",
    "merge_df.sort_values(by='limitspeed',inplace=True)\n",
    "merge_df.to_file('D:/Amap/processdata/路网与边界/wuhan/pyw/osm_gcj_14160_dropdup_limit.shp', driver='ESRI Shapefile',layer='layer1',encoding='utf-8')\n"
   ]
  }
 ],
 "metadata": {
  "kernelspec": {
   "display_name": "Python 3",
   "language": "python",
   "name": "python3"
  },
  "language_info": {
   "codemirror_mode": {
    "name": "ipython",
    "version": 3
   },
   "file_extension": ".py",
   "mimetype": "text/x-python",
   "name": "python",
   "nbconvert_exporter": "python",
   "pygments_lexer": "ipython3",
   "version": "3.9.11"
  }
 },
 "nbformat": 4,
 "nbformat_minor": 2
}
