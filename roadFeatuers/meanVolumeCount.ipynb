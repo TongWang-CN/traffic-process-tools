{
 "cells": [
  {
   "cell_type": "code",
   "execution_count": 59,
   "metadata": {},
   "outputs": [],
   "source": [
    "import pandas as pd\n",
    "import numpy as np\n",
    "\n",
    "volDf=pd.read_csv('D:/Amap/huaweidata/volume/vol20230801.csv',header=0,index_col=0)\n",
    "#volDf.rename(columns={'Unnamed: 0':'NEAR_FID'},inplace=True)\n",
    "volDf['sum']=volDf.sum(axis=1)\n",
    "volDf['mean']=volDf['sum']/6\n",
    "\n",
    "\n",
    "road_class=pd.read_csv('D:/Amap/huaweidata/roadclass.csv')\n",
    "result=pd.concat([volDf,road_class],axis=1)\n",
    "\n",
    "sumdf=result.groupby(by=['finalclass'])['mean'].sum().reset_index()\n",
    "sumdf['portion']=sumdf['mean']/sumdf['mean'].sum(axis=0)\n",
    "\n",
    "meandf=result.groupby(by=['finalclass'])['mean'].mean().reset_index()\n",
    "meandf\n",
    "\n",
    "roadcount=result[result['sum']==0]\n",
    "roadcountdf=roadcount.groupby(by=['finalclass']).count().reset_index()\n"
   ]
  },
  {
   "cell_type": "code",
   "execution_count": 60,
   "metadata": {},
   "outputs": [
    {
     "data": {
      "text/html": [
       "<div>\n",
       "<style scoped>\n",
       "    .dataframe tbody tr th:only-of-type {\n",
       "        vertical-align: middle;\n",
       "    }\n",
       "\n",
       "    .dataframe tbody tr th {\n",
       "        vertical-align: top;\n",
       "    }\n",
       "\n",
       "    .dataframe thead th {\n",
       "        text-align: right;\n",
       "    }\n",
       "</style>\n",
       "<table border=\"1\" class=\"dataframe\">\n",
       "  <thead>\n",
       "    <tr style=\"text-align: right;\">\n",
       "      <th></th>\n",
       "      <th>finalclass</th>\n",
       "      <th>mean</th>\n",
       "      <th>portion</th>\n",
       "    </tr>\n",
       "  </thead>\n",
       "  <tbody>\n",
       "    <tr>\n",
       "      <th>0</th>\n",
       "      <td>1</td>\n",
       "      <td>97571.666667</td>\n",
       "      <td>0.329022</td>\n",
       "    </tr>\n",
       "    <tr>\n",
       "      <th>1</th>\n",
       "      <td>2</td>\n",
       "      <td>118660.666667</td>\n",
       "      <td>0.400137</td>\n",
       "    </tr>\n",
       "    <tr>\n",
       "      <th>2</th>\n",
       "      <td>3</td>\n",
       "      <td>80318.000000</td>\n",
       "      <td>0.270841</td>\n",
       "    </tr>\n",
       "  </tbody>\n",
       "</table>\n",
       "</div>"
      ],
      "text/plain": [
       "   finalclass           mean   portion\n",
       "0           1   97571.666667  0.329022\n",
       "1           2  118660.666667  0.400137\n",
       "2           3   80318.000000  0.270841"
      ]
     },
     "execution_count": 60,
     "metadata": {},
     "output_type": "execute_result"
    }
   ],
   "source": [
    "sumdf"
   ]
  },
  {
   "cell_type": "code",
   "execution_count": 61,
   "metadata": {},
   "outputs": [
    {
     "data": {
      "text/plain": [
       "29.18515238001509"
      ]
     },
     "execution_count": 61,
     "metadata": {},
     "output_type": "execute_result"
    }
   ],
   "source": [
    "meandf\n",
    "volDf['mean'].mean()"
   ]
  },
  {
   "cell_type": "code",
   "execution_count": 56,
   "metadata": {},
   "outputs": [
    {
     "data": {
      "text/html": [
       "<div>\n",
       "<style scoped>\n",
       "    .dataframe tbody tr th:only-of-type {\n",
       "        vertical-align: middle;\n",
       "    }\n",
       "\n",
       "    .dataframe tbody tr th {\n",
       "        vertical-align: top;\n",
       "    }\n",
       "\n",
       "    .dataframe thead th {\n",
       "        text-align: right;\n",
       "    }\n",
       "</style>\n",
       "<table border=\"1\" class=\"dataframe\">\n",
       "  <thead>\n",
       "    <tr style=\"text-align: right;\">\n",
       "      <th></th>\n",
       "      <th>finalclass</th>\n",
       "      <th>2.02E+11</th>\n",
       "      <th>2.02E+11.1</th>\n",
       "      <th>2.02E+11.2</th>\n",
       "      <th>2.02E+11.3</th>\n",
       "      <th>2.02E+11.4</th>\n",
       "      <th>2.02308E+11</th>\n",
       "      <th>sum</th>\n",
       "      <th>mean</th>\n",
       "      <th>NEAR_FID</th>\n",
       "    </tr>\n",
       "  </thead>\n",
       "  <tbody>\n",
       "    <tr>\n",
       "      <th>0</th>\n",
       "      <td>1</td>\n",
       "      <td>145</td>\n",
       "      <td>145</td>\n",
       "      <td>145</td>\n",
       "      <td>145</td>\n",
       "      <td>145</td>\n",
       "      <td>145</td>\n",
       "      <td>145</td>\n",
       "      <td>145</td>\n",
       "      <td>145</td>\n",
       "    </tr>\n",
       "    <tr>\n",
       "      <th>1</th>\n",
       "      <td>2</td>\n",
       "      <td>241</td>\n",
       "      <td>241</td>\n",
       "      <td>241</td>\n",
       "      <td>241</td>\n",
       "      <td>241</td>\n",
       "      <td>241</td>\n",
       "      <td>241</td>\n",
       "      <td>241</td>\n",
       "      <td>241</td>\n",
       "    </tr>\n",
       "    <tr>\n",
       "      <th>2</th>\n",
       "      <td>3</td>\n",
       "      <td>165</td>\n",
       "      <td>165</td>\n",
       "      <td>165</td>\n",
       "      <td>165</td>\n",
       "      <td>165</td>\n",
       "      <td>165</td>\n",
       "      <td>165</td>\n",
       "      <td>165</td>\n",
       "      <td>165</td>\n",
       "    </tr>\n",
       "  </tbody>\n",
       "</table>\n",
       "</div>"
      ],
      "text/plain": [
       "   finalclass  2.02E+11  2.02E+11.1  2.02E+11.2  2.02E+11.3  2.02E+11.4  \\\n",
       "0           1       145         145         145         145         145   \n",
       "1           2       241         241         241         241         241   \n",
       "2           3       165         165         165         165         165   \n",
       "\n",
       "   2.02308E+11  sum  mean  NEAR_FID  \n",
       "0          145  145   145       145  \n",
       "1          241  241   241       241  \n",
       "2          165  165   165       165  "
      ]
     },
     "execution_count": 56,
     "metadata": {},
     "output_type": "execute_result"
    }
   ],
   "source": [
    "roadcountdf"
   ]
  }
 ],
 "metadata": {
  "kernelspec": {
   "display_name": "Python 3",
   "language": "python",
   "name": "python3"
  },
  "language_info": {
   "codemirror_mode": {
    "name": "ipython",
    "version": 3
   },
   "file_extension": ".py",
   "mimetype": "text/x-python",
   "name": "python",
   "nbconvert_exporter": "python",
   "pygments_lexer": "ipython3",
   "version": "3.7.12"
  },
  "orig_nbformat": 4
 },
 "nbformat": 4,
 "nbformat_minor": 2
}
