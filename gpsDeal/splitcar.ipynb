{
 "cells": [
  {
   "cell_type": "code",
   "execution_count": 3,
   "metadata": {},
   "outputs": [
    {
     "name": "stdout",
     "output_type": "stream",
     "text": [
      "WH_20180702.csv\n",
      "WH_20180703.csv\n",
      "WH_20180704.csv\n",
      "WH_20180705.csv\n",
      "WH_20180706.csv\n",
      "WH_20180707.csv\n",
      "WH_20180708.csv\n"
     ]
    }
   ],
   "source": [
    "import os\n",
    "import pandas as pd\n",
    "\n",
    "\n",
    "# 定义文件夹路径\n",
    "dir='E:/dataSet/wuhanTaxi/calspeed/'\n",
    "csv_folder =dir+'origin'\n",
    "splitcar_folder = dir+'split'\n",
    "\n",
    "\n",
    "# 遍历csv文件夹中的文件\n",
    "for filename in os.listdir(csv_folder):\n",
    "    print(filename)\n",
    "    if filename.endswith('.csv'):  # 确保只处理csv文件\n",
    "        # 提取日期部分，文件名格式为YYYYMMDD.csv\n",
    "        date = filename[3:-4]  # 去除文件名的后缀(.csv)\n",
    "        date_folder = os.path.join(splitcar_folder, date)  # 构建子文件夹路径\n",
    "        \n",
    "        # 检查子文件夹是否已存在，如果不存在则创建\n",
    "        if not os.path.exists(date_folder):\n",
    "            os.makedirs(date_folder)\n",
    "        \n",
    "        # 读取CSV文件为DataFrame并按id和time排序\n",
    "        csv_filepath = os.path.join(csv_folder, filename)\n",
    "        cols=['id','timestamp','pass1','lng','lat','pass2','status']\n",
    "\n",
    "        df = pd.read_csv(csv_filepath,names=cols,index_col=None,low_memory=False)\n",
    "        df['id']=df['id'].astype('int')\n",
    "        df_sorted = df.sort_values(by=['id', 'timestamp'])\n",
    "        \n",
    "\n",
    "        # 根据id进行分组，并将每个分组的数据保存到对应的子文件夹中\n",
    "        groups = df_sorted.groupby('id')\n",
    "        for group_id, group_data in groups:\n",
    "            group_filename = f\"{group_id}.csv\"\n",
    "            group_filepath = os.path.join(date_folder, group_filename)\n",
    "            group_data.to_csv(group_filepath, index=False)\n"
   ]
  },
  {
   "cell_type": "code",
   "execution_count": null,
   "metadata": {},
   "outputs": [],
   "source": [
    "import os\n",
    "import pandas as pd\n",
    "\n",
    "\n",
    "# 定义文件夹路径\n",
    "csv_folder = 'E:\\\\Amap\\\\processdata\\\\dealcsv'\n",
    "splitcar_folder = 'E:\\\\Amap\\\\processdata\\\\AngleSplitCarCsv'\n",
    "\n",
    "\n",
    "# 遍历csv文件夹中的文件\n",
    "for filename in os.listdir(csv_folder):\n",
    "    print(filename)\n",
    "    if filename.endswith('.csv'):  # 确保只处理csv文件\n",
    "        # 提取日期部分，文件名格式为YYYYMMDD.csv\n",
    "        date = filename[:-4]  # 去除文件名的后缀(.csv)\n",
    "        date_folder = os.path.join(splitcar_folder, date)  # 构建子文件夹路径\n",
    "        \n",
    "        # 检查子文件夹是否已存在，如果不存在则创建\n",
    "        if not os.path.exists(date_folder):\n",
    "            os.makedirs(date_folder)"
   ]
  }
 ],
 "metadata": {
  "kernelspec": {
   "display_name": "base",
   "language": "python",
   "name": "python3"
  },
  "language_info": {
   "codemirror_mode": {
    "name": "ipython",
    "version": 3
   },
   "file_extension": ".py",
   "mimetype": "text/x-python",
   "name": "python",
   "nbconvert_exporter": "python",
   "pygments_lexer": "ipython3",
   "version": "3.9.11"
  },
  "orig_nbformat": 4
 },
 "nbformat": 4,
 "nbformat_minor": 2
}
